{
 "cells": [
  {
   "cell_type": "code",
   "execution_count": 1,
   "metadata": {},
   "outputs": [],
   "source": [
    "# importing required libraries\n",
    "import pandas as pd\n",
    "import numpy as np\n",
    "import os"
   ]
  },
  {
   "cell_type": "code",
   "execution_count": 2,
   "metadata": {},
   "outputs": [],
   "source": [
    "# Changing directory to data file path\n",
    "os.chdir('E:/data science/Hackathons/Student Yes bank')"
   ]
  },
  {
   "cell_type": "code",
   "execution_count": 3,
   "metadata": {},
   "outputs": [],
   "source": [
    "# importing yes bank training file\n",
    "train=pd.read_csv('Yes_Bank_Training.csv')"
   ]
  },
  {
   "cell_type": "code",
   "execution_count": 4,
   "metadata": {},
   "outputs": [
    {
     "data": {
      "text/html": [
       "<div>\n",
       "<style scoped>\n",
       "    .dataframe tbody tr th:only-of-type {\n",
       "        vertical-align: middle;\n",
       "    }\n",
       "\n",
       "    .dataframe tbody tr th {\n",
       "        vertical-align: top;\n",
       "    }\n",
       "\n",
       "    .dataframe thead th {\n",
       "        text-align: right;\n",
       "    }\n",
       "</style>\n",
       "<table border=\"1\" class=\"dataframe\">\n",
       "  <thead>\n",
       "    <tr style=\"text-align: right;\">\n",
       "      <th></th>\n",
       "      <th>serial_number</th>\n",
       "      <th>age_in_years</th>\n",
       "      <th>job_description</th>\n",
       "      <th>marital_status</th>\n",
       "      <th>education_details</th>\n",
       "      <th>has_default</th>\n",
       "      <th>balance_in_account</th>\n",
       "      <th>housing_status</th>\n",
       "      <th>previous_loan</th>\n",
       "      <th>phone_type</th>\n",
       "      <th>date</th>\n",
       "      <th>month_of_year</th>\n",
       "      <th>call_duration</th>\n",
       "      <th>campaign_contacts</th>\n",
       "      <th>days_passed</th>\n",
       "      <th>previous_contact</th>\n",
       "      <th>poutcome_of_campaign</th>\n",
       "      <th>outcome</th>\n",
       "    </tr>\n",
       "  </thead>\n",
       "  <tbody>\n",
       "    <tr>\n",
       "      <th>0</th>\n",
       "      <td>1</td>\n",
       "      <td>58</td>\n",
       "      <td>management</td>\n",
       "      <td>married</td>\n",
       "      <td>tertiary</td>\n",
       "      <td>no</td>\n",
       "      <td>2143</td>\n",
       "      <td>yes</td>\n",
       "      <td>no</td>\n",
       "      <td>unknown</td>\n",
       "      <td>5</td>\n",
       "      <td>may</td>\n",
       "      <td>261</td>\n",
       "      <td>1</td>\n",
       "      <td>-1</td>\n",
       "      <td>0</td>\n",
       "      <td>unknown</td>\n",
       "      <td>no</td>\n",
       "    </tr>\n",
       "    <tr>\n",
       "      <th>1</th>\n",
       "      <td>2</td>\n",
       "      <td>44</td>\n",
       "      <td>technician</td>\n",
       "      <td>single</td>\n",
       "      <td>secondary</td>\n",
       "      <td>no</td>\n",
       "      <td>29</td>\n",
       "      <td>yes</td>\n",
       "      <td>no</td>\n",
       "      <td>unknown</td>\n",
       "      <td>5</td>\n",
       "      <td>may</td>\n",
       "      <td>151</td>\n",
       "      <td>1</td>\n",
       "      <td>-1</td>\n",
       "      <td>0</td>\n",
       "      <td>unknown</td>\n",
       "      <td>no</td>\n",
       "    </tr>\n",
       "    <tr>\n",
       "      <th>2</th>\n",
       "      <td>3</td>\n",
       "      <td>33</td>\n",
       "      <td>entrepreneur</td>\n",
       "      <td>married</td>\n",
       "      <td>secondary</td>\n",
       "      <td>no</td>\n",
       "      <td>2</td>\n",
       "      <td>yes</td>\n",
       "      <td>yes</td>\n",
       "      <td>unknown</td>\n",
       "      <td>5</td>\n",
       "      <td>may</td>\n",
       "      <td>76</td>\n",
       "      <td>1</td>\n",
       "      <td>-1</td>\n",
       "      <td>0</td>\n",
       "      <td>unknown</td>\n",
       "      <td>no</td>\n",
       "    </tr>\n",
       "    <tr>\n",
       "      <th>3</th>\n",
       "      <td>4</td>\n",
       "      <td>47</td>\n",
       "      <td>blue-collar</td>\n",
       "      <td>married</td>\n",
       "      <td>unknown</td>\n",
       "      <td>no</td>\n",
       "      <td>1506</td>\n",
       "      <td>yes</td>\n",
       "      <td>no</td>\n",
       "      <td>unknown</td>\n",
       "      <td>5</td>\n",
       "      <td>may</td>\n",
       "      <td>92</td>\n",
       "      <td>1</td>\n",
       "      <td>-1</td>\n",
       "      <td>0</td>\n",
       "      <td>unknown</td>\n",
       "      <td>no</td>\n",
       "    </tr>\n",
       "    <tr>\n",
       "      <th>4</th>\n",
       "      <td>5</td>\n",
       "      <td>33</td>\n",
       "      <td>unknown</td>\n",
       "      <td>single</td>\n",
       "      <td>unknown</td>\n",
       "      <td>no</td>\n",
       "      <td>1</td>\n",
       "      <td>no</td>\n",
       "      <td>no</td>\n",
       "      <td>unknown</td>\n",
       "      <td>5</td>\n",
       "      <td>may</td>\n",
       "      <td>198</td>\n",
       "      <td>1</td>\n",
       "      <td>-1</td>\n",
       "      <td>0</td>\n",
       "      <td>unknown</td>\n",
       "      <td>no</td>\n",
       "    </tr>\n",
       "  </tbody>\n",
       "</table>\n",
       "</div>"
      ],
      "text/plain": [
       "   serial_number  age_in_years job_description marital_status  \\\n",
       "0              1            58      management        married   \n",
       "1              2            44      technician         single   \n",
       "2              3            33    entrepreneur        married   \n",
       "3              4            47     blue-collar        married   \n",
       "4              5            33         unknown         single   \n",
       "\n",
       "  education_details has_default  balance_in_account housing_status  \\\n",
       "0          tertiary          no                2143            yes   \n",
       "1         secondary          no                  29            yes   \n",
       "2         secondary          no                   2            yes   \n",
       "3           unknown          no                1506            yes   \n",
       "4           unknown          no                   1             no   \n",
       "\n",
       "  previous_loan phone_type  date month_of_year  call_duration  \\\n",
       "0            no    unknown     5           may            261   \n",
       "1            no    unknown     5           may            151   \n",
       "2           yes    unknown     5           may             76   \n",
       "3            no    unknown     5           may             92   \n",
       "4            no    unknown     5           may            198   \n",
       "\n",
       "   campaign_contacts  days_passed  previous_contact poutcome_of_campaign  \\\n",
       "0                  1           -1                 0              unknown   \n",
       "1                  1           -1                 0              unknown   \n",
       "2                  1           -1                 0              unknown   \n",
       "3                  1           -1                 0              unknown   \n",
       "4                  1           -1                 0              unknown   \n",
       "\n",
       "  outcome  \n",
       "0      no  \n",
       "1      no  \n",
       "2      no  \n",
       "3      no  \n",
       "4      no  "
      ]
     },
     "execution_count": 4,
     "metadata": {},
     "output_type": "execute_result"
    }
   ],
   "source": [
    "train.head()"
   ]
  },
  {
   "cell_type": "code",
   "execution_count": 5,
   "metadata": {
    "scrolled": true
   },
   "outputs": [
    {
     "data": {
      "text/plain": [
       "serial_number           0\n",
       "age_in_years            0\n",
       "job_description         0\n",
       "marital_status          0\n",
       "education_details       0\n",
       "has_default             0\n",
       "balance_in_account      0\n",
       "housing_status          0\n",
       "previous_loan           0\n",
       "phone_type              0\n",
       "date                    0\n",
       "month_of_year           0\n",
       "call_duration           0\n",
       "campaign_contacts       0\n",
       "days_passed             0\n",
       "previous_contact        0\n",
       "poutcome_of_campaign    0\n",
       "outcome                 0\n",
       "dtype: int64"
      ]
     },
     "execution_count": 5,
     "metadata": {},
     "output_type": "execute_result"
    }
   ],
   "source": [
    "# missing value check for each variable\n",
    "train.isnull().sum()"
   ]
  },
  {
   "cell_type": "code",
   "execution_count": 6,
   "metadata": {},
   "outputs": [],
   "source": [
    "# target variable encoding & dropping traget variable\n",
    "train['outcome_bin']=[1 if x=='yes' else 0 for x in train['outcome']]\n",
    "train=train.drop(['outcome'],axis=1)"
   ]
  },
  {
   "cell_type": "code",
   "execution_count": 7,
   "metadata": {},
   "outputs": [
    {
     "data": {
      "text/plain": [
       "0.058137697873550505"
      ]
     },
     "execution_count": 7,
     "metadata": {},
     "output_type": "execute_result"
    }
   ],
   "source": [
    "# Since the number of positive class is very low we can say that the data is imbalaced\n",
    "np.mean(train['outcome_bin'])"
   ]
  },
  {
   "cell_type": "code",
   "execution_count": 10,
   "metadata": {},
   "outputs": [
    {
     "data": {
      "image/png": "[encoded data removed]",
      "text/plain": [
       "<Figure size 432x288 with 1 Axes>"
      ]
     },
     "metadata": {
      "needs_background": "light"
     },
     "output_type": "display_data"
    }
   ],
   "source": [
    "import matplotlib.pyplot as plt\n",
    "import seaborn as sns\n",
    "sns.countplot(x='outcome_bin',data=train,palette='hls')\n",
    "plt.title('outcome factors ratio')\n",
    "plt.show()"
   ]
  },
  {
   "cell_type": "code",
   "execution_count": 10,
   "metadata": {
    "scrolled": false
   },
   "outputs": [
    {
     "data": {
      "text/html": [
       "<div>\n",
       "<style scoped>\n",
       "    .dataframe tbody tr th:only-of-type {\n",
       "        vertical-align: middle;\n",
       "    }\n",
       "\n",
       "    .dataframe tbody tr th {\n",
       "        vertical-align: top;\n",
       "    }\n",
       "\n",
       "    .dataframe thead th {\n",
       "        text-align: right;\n",
       "    }\n",
       "</style>\n",
       "<table border=\"1\" class=\"dataframe\">\n",
       "  <thead>\n",
       "    <tr style=\"text-align: right;\">\n",
       "      <th></th>\n",
       "      <th>outcome_bin</th>\n",
       "    </tr>\n",
       "    <tr>\n",
       "      <th>job_description</th>\n",
       "      <th></th>\n",
       "    </tr>\n",
       "  </thead>\n",
       "  <tbody>\n",
       "    <tr>\n",
       "      <th>admin.</th>\n",
       "      <td>0.059332</td>\n",
       "    </tr>\n",
       "    <tr>\n",
       "      <th>blue-collar</th>\n",
       "      <td>0.048791</td>\n",
       "    </tr>\n",
       "    <tr>\n",
       "      <th>entrepreneur</th>\n",
       "      <td>0.058621</td>\n",
       "    </tr>\n",
       "    <tr>\n",
       "      <th>housemaid</th>\n",
       "      <td>0.038184</td>\n",
       "    </tr>\n",
       "    <tr>\n",
       "      <th>management</th>\n",
       "      <td>0.064877</td>\n",
       "    </tr>\n",
       "    <tr>\n",
       "      <th>retired</th>\n",
       "      <td>0.080357</td>\n",
       "    </tr>\n",
       "    <tr>\n",
       "      <th>self-employed</th>\n",
       "      <td>0.064433</td>\n",
       "    </tr>\n",
       "    <tr>\n",
       "      <th>services</th>\n",
       "      <td>0.048567</td>\n",
       "    </tr>\n",
       "    <tr>\n",
       "      <th>student</th>\n",
       "      <td>0.107744</td>\n",
       "    </tr>\n",
       "    <tr>\n",
       "      <th>technician</th>\n",
       "      <td>0.058058</td>\n",
       "    </tr>\n",
       "    <tr>\n",
       "      <th>unemployed</th>\n",
       "      <td>0.073684</td>\n",
       "    </tr>\n",
       "    <tr>\n",
       "      <th>unknown</th>\n",
       "      <td>0.054299</td>\n",
       "    </tr>\n",
       "  </tbody>\n",
       "</table>\n",
       "</div>"
      ],
      "text/plain": [
       "                 outcome_bin\n",
       "job_description             \n",
       "admin.              0.059332\n",
       "blue-collar         0.048791\n",
       "entrepreneur        0.058621\n",
       "housemaid           0.038184\n",
       "management          0.064877\n",
       "retired             0.080357\n",
       "self-employed       0.064433\n",
       "services            0.048567\n",
       "student             0.107744\n",
       "technician          0.058058\n",
       "unemployed          0.073684\n",
       "unknown             0.054299"
      ]
     },
     "execution_count": 10,
     "metadata": {},
     "output_type": "execute_result"
    }
   ],
   "source": [
    "# Reducing factors of categorical variables by clubbing several factors\n",
    "# factors reduction for variable 'job description' based on target variable 'outcome'\n",
    "train.groupby('job_description').agg({'outcome_bin':np.mean})"
   ]
  },
  {
   "cell_type": "code",
   "execution_count": 11,
   "metadata": {},
   "outputs": [],
   "source": [
    "train['job_description']=['admin_tech_entrepre_unk' if (x=='admin.')|(x=='technician')|(x=='entrepreneur')|(x=='unknown') else x for x in train['job_description']]"
   ]
  },
  {
   "cell_type": "code",
   "execution_count": 12,
   "metadata": {},
   "outputs": [],
   "source": [
    "train['job_description']=['blue_service' if (x=='blue-collar')|(x=='services') else x for x in train['job_description']]"
   ]
  },
  {
   "cell_type": "code",
   "execution_count": 13,
   "metadata": {},
   "outputs": [],
   "source": [
    "train['job_description']=['manage_self' if (x=='management')|(x=='self-employed') else x for x in train['job_description']]"
   ]
  },
  {
   "cell_type": "code",
   "execution_count": 14,
   "metadata": {},
   "outputs": [
    {
     "data": {
      "text/html": [
       "<div>\n",
       "<style scoped>\n",
       "    .dataframe tbody tr th:only-of-type {\n",
       "        vertical-align: middle;\n",
       "    }\n",
       "\n",
       "    .dataframe tbody tr th {\n",
       "        vertical-align: top;\n",
       "    }\n",
       "\n",
       "    .dataframe thead th {\n",
       "        text-align: right;\n",
       "    }\n",
       "</style>\n",
       "<table border=\"1\" class=\"dataframe\">\n",
       "  <thead>\n",
       "    <tr style=\"text-align: right;\">\n",
       "      <th></th>\n",
       "      <th>outcome_bin</th>\n",
       "    </tr>\n",
       "    <tr>\n",
       "      <th>education_details</th>\n",
       "      <th></th>\n",
       "    </tr>\n",
       "  </thead>\n",
       "  <tbody>\n",
       "    <tr>\n",
       "      <th>primary</th>\n",
       "      <td>0.048021</td>\n",
       "    </tr>\n",
       "    <tr>\n",
       "      <th>secondary</th>\n",
       "      <td>0.054775</td>\n",
       "    </tr>\n",
       "    <tr>\n",
       "      <th>tertiary</th>\n",
       "      <td>0.071562</td>\n",
       "    </tr>\n",
       "    <tr>\n",
       "      <th>unknown</th>\n",
       "      <td>0.044811</td>\n",
       "    </tr>\n",
       "  </tbody>\n",
       "</table>\n",
       "</div>"
      ],
      "text/plain": [
       "                   outcome_bin\n",
       "education_details             \n",
       "primary               0.048021\n",
       "secondary             0.054775\n",
       "tertiary              0.071562\n",
       "unknown               0.044811"
      ]
     },
     "execution_count": 14,
     "metadata": {},
     "output_type": "execute_result"
    }
   ],
   "source": [
    "# factors reduction for variable 'education_details' based on target variable 'outcome'\n",
    "train.groupby('education_details').agg({'outcome_bin':np.mean})"
   ]
  },
  {
   "cell_type": "code",
   "execution_count": 15,
   "metadata": {},
   "outputs": [],
   "source": [
    "train['education_details']=['primary' if x=='unknown' else x for x in train['education_details']]"
   ]
  },
  {
   "cell_type": "code",
   "execution_count": 16,
   "metadata": {},
   "outputs": [
    {
     "data": {
      "text/plain": [
       "array(['no', 'yes'], dtype=object)"
      ]
     },
     "execution_count": 16,
     "metadata": {},
     "output_type": "execute_result"
    }
   ],
   "source": [
    "# variable encoding for 'has_default' \n",
    "train['has_default'].unique()"
   ]
  },
  {
   "cell_type": "code",
   "execution_count": 17,
   "metadata": {},
   "outputs": [],
   "source": [
    "train['has_default']=[1 if x=='yes' else 0 for x in train['has_default']]"
   ]
  },
  {
   "cell_type": "code",
   "execution_count": 18,
   "metadata": {},
   "outputs": [
    {
     "data": {
      "text/plain": [
       "array(['yes', 'no'], dtype=object)"
      ]
     },
     "execution_count": 18,
     "metadata": {},
     "output_type": "execute_result"
    }
   ],
   "source": [
    "# variable encoding for 'housing_status'\n",
    "train['housing_status'].unique()"
   ]
  },
  {
   "cell_type": "code",
   "execution_count": 19,
   "metadata": {},
   "outputs": [],
   "source": [
    "train['housing_status']=[1 if x=='yes' else 0 for x in train['housing_status']]"
   ]
  },
  {
   "cell_type": "code",
   "execution_count": 20,
   "metadata": {},
   "outputs": [
    {
     "data": {
      "text/plain": [
       "array(['no', 'yes'], dtype=object)"
      ]
     },
     "execution_count": 20,
     "metadata": {},
     "output_type": "execute_result"
    }
   ],
   "source": [
    "# variable encoding for 'previous_loan'\n",
    "train['previous_loan'].unique()"
   ]
  },
  {
   "cell_type": "code",
   "execution_count": 21,
   "metadata": {},
   "outputs": [],
   "source": [
    "train['previous_loan']=[1 if x=='yes' else 0 for x in train['previous_loan']]"
   ]
  },
  {
   "cell_type": "code",
   "execution_count": 22,
   "metadata": {},
   "outputs": [
    {
     "data": {
      "text/plain": [
       "array(['may', 'jun', 'jul', 'aug', 'oct', 'nov', 'dec', 'jan', 'feb',\n",
       "       'mar', 'apr'], dtype=object)"
      ]
     },
     "execution_count": 22,
     "metadata": {},
     "output_type": "execute_result"
    }
   ],
   "source": [
    "# factors reduction for variable 'month_of_year' based on target variable 'outcome'\n",
    "train['month_of_year'].unique()"
   ]
  },
  {
   "cell_type": "code",
   "execution_count": 23,
   "metadata": {},
   "outputs": [
    {
     "data": {
      "text/html": [
       "<div>\n",
       "<style scoped>\n",
       "    .dataframe tbody tr th:only-of-type {\n",
       "        vertical-align: middle;\n",
       "    }\n",
       "\n",
       "    .dataframe tbody tr th {\n",
       "        vertical-align: top;\n",
       "    }\n",
       "\n",
       "    .dataframe thead th {\n",
       "        text-align: right;\n",
       "    }\n",
       "</style>\n",
       "<table border=\"1\" class=\"dataframe\">\n",
       "  <thead>\n",
       "    <tr style=\"text-align: right;\">\n",
       "      <th></th>\n",
       "      <th>outcome_bin</th>\n",
       "    </tr>\n",
       "    <tr>\n",
       "      <th>month_of_year</th>\n",
       "      <th></th>\n",
       "    </tr>\n",
       "  </thead>\n",
       "  <tbody>\n",
       "    <tr>\n",
       "      <th>apr</th>\n",
       "      <td>0.110526</td>\n",
       "    </tr>\n",
       "    <tr>\n",
       "      <th>aug</th>\n",
       "      <td>0.055225</td>\n",
       "    </tr>\n",
       "    <tr>\n",
       "      <th>dec</th>\n",
       "      <td>0.076923</td>\n",
       "    </tr>\n",
       "    <tr>\n",
       "      <th>feb</th>\n",
       "      <td>0.111063</td>\n",
       "    </tr>\n",
       "    <tr>\n",
       "      <th>jan</th>\n",
       "      <td>0.032313</td>\n",
       "    </tr>\n",
       "    <tr>\n",
       "      <th>jul</th>\n",
       "      <td>0.060188</td>\n",
       "    </tr>\n",
       "    <tr>\n",
       "      <th>jun</th>\n",
       "      <td>0.044806</td>\n",
       "    </tr>\n",
       "    <tr>\n",
       "      <th>mar</th>\n",
       "      <td>0.484496</td>\n",
       "    </tr>\n",
       "    <tr>\n",
       "      <th>may</th>\n",
       "      <td>0.032424</td>\n",
       "    </tr>\n",
       "    <tr>\n",
       "      <th>nov</th>\n",
       "      <td>0.061145</td>\n",
       "    </tr>\n",
       "    <tr>\n",
       "      <th>oct</th>\n",
       "      <td>0.612500</td>\n",
       "    </tr>\n",
       "  </tbody>\n",
       "</table>\n",
       "</div>"
      ],
      "text/plain": [
       "               outcome_bin\n",
       "month_of_year             \n",
       "apr               0.110526\n",
       "aug               0.055225\n",
       "dec               0.076923\n",
       "feb               0.111063\n",
       "jan               0.032313\n",
       "jul               0.060188\n",
       "jun               0.044806\n",
       "mar               0.484496\n",
       "may               0.032424\n",
       "nov               0.061145\n",
       "oct               0.612500"
      ]
     },
     "execution_count": 23,
     "metadata": {},
     "output_type": "execute_result"
    }
   ],
   "source": [
    "train.groupby('month_of_year').agg({'outcome_bin':np.mean})"
   ]
  },
  {
   "cell_type": "code",
   "execution_count": 24,
   "metadata": {},
   "outputs": [],
   "source": [
    "train['month_of_year']=['apr_feb' if (x=='apr')|(x=='feb') else x for x in train['month_of_year']]"
   ]
  },
  {
   "cell_type": "code",
   "execution_count": 25,
   "metadata": {},
   "outputs": [],
   "source": [
    "train['month_of_year']=['jul_nov' if (x=='jul')|(x=='nov') else x for x in train['month_of_year']]"
   ]
  },
  {
   "cell_type": "code",
   "execution_count": 26,
   "metadata": {},
   "outputs": [],
   "source": [
    "train['month_of_year']=['jan_may' if (x=='jan')|(x=='may') else x for x in train['month_of_year']]"
   ]
  },
  {
   "cell_type": "code",
   "execution_count": 27,
   "metadata": {},
   "outputs": [
    {
     "data": {
      "text/html": [
       "<div>\n",
       "<style scoped>\n",
       "    .dataframe tbody tr th:only-of-type {\n",
       "        vertical-align: middle;\n",
       "    }\n",
       "\n",
       "    .dataframe tbody tr th {\n",
       "        vertical-align: top;\n",
       "    }\n",
       "\n",
       "    .dataframe thead th {\n",
       "        text-align: right;\n",
       "    }\n",
       "</style>\n",
       "<table border=\"1\" class=\"dataframe\">\n",
       "  <thead>\n",
       "    <tr style=\"text-align: right;\">\n",
       "      <th></th>\n",
       "      <th>outcome_bin</th>\n",
       "    </tr>\n",
       "    <tr>\n",
       "      <th>poutcome_of_campaign</th>\n",
       "      <th></th>\n",
       "    </tr>\n",
       "  </thead>\n",
       "  <tbody>\n",
       "    <tr>\n",
       "      <th>failure</th>\n",
       "      <td>0.038221</td>\n",
       "    </tr>\n",
       "    <tr>\n",
       "      <th>other</th>\n",
       "      <td>0.052045</td>\n",
       "    </tr>\n",
       "    <tr>\n",
       "      <th>success</th>\n",
       "      <td>0.185185</td>\n",
       "    </tr>\n",
       "    <tr>\n",
       "      <th>unknown</th>\n",
       "      <td>0.058869</td>\n",
       "    </tr>\n",
       "  </tbody>\n",
       "</table>\n",
       "</div>"
      ],
      "text/plain": [
       "                      outcome_bin\n",
       "poutcome_of_campaign             \n",
       "failure                  0.038221\n",
       "other                    0.052045\n",
       "success                  0.185185\n",
       "unknown                  0.058869"
      ]
     },
     "execution_count": 27,
     "metadata": {},
     "output_type": "execute_result"
    }
   ],
   "source": [
    "# factors reduction for variable 'poutcome_of_campaign' based on target variable 'outcome'\n",
    "train.groupby('poutcome_of_campaign').agg({'outcome_bin':np.mean})"
   ]
  },
  {
   "cell_type": "code",
   "execution_count": 28,
   "metadata": {},
   "outputs": [],
   "source": [
    "train['poutcome_of_campaign']=['other_unk' if (x=='other')|(x=='unknown') else x for x in train['poutcome_of_campaign']]"
   ]
  },
  {
   "cell_type": "code",
   "execution_count": 29,
   "metadata": {},
   "outputs": [],
   "source": [
    "# dropping serial number from train data\n",
    "train1=train.drop(['serial_number'],axis=1)"
   ]
  },
  {
   "cell_type": "code",
   "execution_count": 30,
   "metadata": {},
   "outputs": [],
   "source": [
    "# importing test data file \n",
    "test=pd.read_csv('Yes_Bank_Test.csv')"
   ]
  },
  {
   "cell_type": "code",
   "execution_count": 31,
   "metadata": {},
   "outputs": [],
   "source": [
    "# factors reduction for all variables of test data based on train data\n",
    "# variable encoding for all variables based on the train data\n",
    "\n",
    "test['job_description']=['admin_tech_entrepre_unk' if (x=='admin.')|(x=='technician')|(x=='entrepreneur')|(x=='unknown') else x for x in test['job_description']]\n",
    "\n",
    "test['job_description']=['blue_service' if (x=='blue-collar')|(x=='services') else x for x in test['job_description']]\n",
    "\n",
    "test['job_description']=['manage_self' if (x=='management')|(x=='self-employed') else x for x in test['job_description']]\n",
    "\n",
    "\n",
    "\n",
    "test['education_details'].unique()\n",
    "\n",
    "test['education_details']=['primary' if x=='unknown' else x for x in test['education_details']]\n",
    "\n",
    "test['has_default'].unique()\n",
    "\n",
    "test['has_default']=[1 if x=='yes' else 0 for x in test['has_default']]\n",
    "\n",
    "test['housing_status'].unique()\n",
    "\n",
    "test['housing_status']=[1 if x=='yes' else 0 for x in test['housing_status']]\n",
    "\n",
    "test['previous_loan'].unique()\n",
    "\n",
    "test['previous_loan']=[1 if x=='yes' else 0 for x in test['previous_loan']]\n",
    "\n",
    "test['phone_type'].unique()\n",
    "\n",
    "test['date'].unique()\n",
    "\n",
    "test['month_of_year'].unique()\n",
    "\n",
    "test['month_of_year']=['apr_feb' if (x=='apr')|(x=='feb') else x for x in test['month_of_year']]\n",
    "\n",
    "test['month_of_year']=['jul_nov' if (x=='jul')|(x=='nov') else x for x in test['month_of_year']]\n",
    "\n",
    "test['month_of_year']=['jan_may' if (x=='jan')|(x=='may') else x for x in test['month_of_year']]\n",
    "\n",
    "\n",
    "test['poutcome_of_campaign'].unique()\n",
    "\n",
    "test['poutcome_of_campaign']=['other_unk' if (x=='other')|(x=='unknown') else x for x in test['poutcome_of_campaign']]\n",
    "\n",
    "test1=test.drop(['serial_number'],axis=1)\n"
   ]
  },
  {
   "cell_type": "code",
   "execution_count": 32,
   "metadata": {},
   "outputs": [
    {
     "name": "stderr",
     "output_type": "stream",
     "text": [
      "C:\\ProgramData\\Anaconda3\\lib\\site-packages\\ipykernel_launcher.py:5: FutureWarning: Sorting because non-concatenation axis is not aligned. A future version\n",
      "of pandas will change to not sort by default.\n",
      "\n",
      "To accept the future behavior, pass 'sort=False'.\n",
      "\n",
      "To retain the current behavior and silence the warning, pass 'sort=True'.\n",
      "\n",
      "  \"\"\"\n"
     ]
    }
   ],
   "source": [
    "# since the train and test data has different number of classes \n",
    "# creating dummies by concating test and train data and separationg test train after dummies creation \n",
    "train1['label']='train'\n",
    "# Concat\n",
    "concat_df = pd.concat([train1 , test1])\n",
    "\n",
    "# Creating dummies\n",
    "concat_df = pd.get_dummies(concat_df)"
   ]
  },
  {
   "cell_type": "code",
   "execution_count": 33,
   "metadata": {},
   "outputs": [],
   "source": [
    "# Spliting test and train data\n",
    "train1 = concat_df[concat_df['label_train'] == 1]\n",
    "test1= concat_df[concat_df['label_train'] == 0]\n",
    "\n",
    "# Dropping label variable from both data sets\n",
    "train1 = train1.drop('label_train', axis=1)\n",
    "test1 = test1.drop('label_train', axis=1)"
   ]
  },
  {
   "cell_type": "code",
   "execution_count": 34,
   "metadata": {},
   "outputs": [],
   "source": [
    "# since we are creating dummies by concating so an extra target variable with all NaN's is created in test data\n",
    "# dropping variable outcome from test\n",
    "test1=test1.drop(['outcome_bin'],axis=1)"
   ]
  },
  {
   "cell_type": "code",
   "execution_count": 35,
   "metadata": {},
   "outputs": [],
   "source": [
    "# creating X Y datasets for train data\n",
    "x=train1.drop(['outcome_bin'],axis=1)\n",
    "y=train1['outcome_bin']"
   ]
  },
  {
   "cell_type": "code",
   "execution_count": 36,
   "metadata": {},
   "outputs": [],
   "source": [
    "# since data is imbalaced we should use oversamling\n",
    "# applying smote transformation for X & Y\n",
    "from imblearn.over_sampling import SMOTE\n",
    "sm=SMOTE()\n",
    "x,y=sm.fit_sample(x,y)"
   ]
  },
  {
   "cell_type": "code",
   "execution_count": 37,
   "metadata": {},
   "outputs": [],
   "source": [
    "# spliting data into test and train\n",
    "import sklearn.model_selection as ms\n",
    "x_train,x_test,y_train,y_test=ms.train_test_split(x,y,test_size=0.2,random_state=200)"
   ]
  },
  {
   "cell_type": "code",
   "execution_count": 38,
   "metadata": {},
   "outputs": [],
   "source": [
    "# Using random forest classifier building model on x_train & y_train \n",
    "import sklearn.ensemble as ensemble"
   ]
  },
  {
   "cell_type": "code",
   "execution_count": 39,
   "metadata": {},
   "outputs": [],
   "source": [
    "clf=ensemble.RandomForestClassifier(n_estimators=160,oob_score=True,n_jobs=-1)"
   ]
  },
  {
   "cell_type": "code",
   "execution_count": 40,
   "metadata": {},
   "outputs": [
    {
     "data": {
      "text/plain": [
       "RandomForestClassifier(bootstrap=True, class_weight=None, criterion='gini',\n",
       "            max_depth=None, max_features='auto', max_leaf_nodes=None,\n",
       "            min_impurity_decrease=0.0, min_impurity_split=None,\n",
       "            min_samples_leaf=1, min_samples_split=2,\n",
       "            min_weight_fraction_leaf=0.0, n_estimators=160, n_jobs=-1,\n",
       "            oob_score=True, random_state=None, verbose=0, warm_start=False)"
      ]
     },
     "execution_count": 40,
     "metadata": {},
     "output_type": "execute_result"
    }
   ],
   "source": [
    "clf.fit(x_train,y_train)"
   ]
  },
  {
   "cell_type": "code",
   "execution_count": 41,
   "metadata": {},
   "outputs": [],
   "source": [
    "# Predicting outcome for x_test data\n",
    "y_pred=clf.predict(x_test)"
   ]
  },
  {
   "cell_type": "code",
   "execution_count": 42,
   "metadata": {},
   "outputs": [
    {
     "data": {
      "text/plain": [
       "0.9720731298222073"
      ]
     },
     "execution_count": 42,
     "metadata": {},
     "output_type": "execute_result"
    }
   ],
   "source": [
    "# Accuracy check on X_test data\n",
    "clf.score(x_test,y_test)"
   ]
  },
  {
   "cell_type": "code",
   "execution_count": 43,
   "metadata": {},
   "outputs": [
    {
     "data": {
      "text/plain": [
       "0.9737912525684572"
      ]
     },
     "execution_count": 43,
     "metadata": {},
     "output_type": "execute_result"
    }
   ],
   "source": [
    "# out of bag error score\n",
    "clf.oob_score_"
   ]
  },
  {
   "cell_type": "code",
   "execution_count": 44,
   "metadata": {},
   "outputs": [],
   "source": [
    "# Predicting outcome for test data\n",
    "test_pred=clf.predict(test1)"
   ]
  },
  {
   "cell_type": "code",
   "execution_count": 45,
   "metadata": {},
   "outputs": [],
   "source": [
    "# Output file for test data\n",
    "submission=pd.DataFrame()"
   ]
  },
  {
   "cell_type": "code",
   "execution_count": 46,
   "metadata": {},
   "outputs": [],
   "source": [
    "outcome=['yes' if x==1 else 'no' for x in test_pred]"
   ]
  },
  {
   "cell_type": "code",
   "execution_count": 47,
   "metadata": {},
   "outputs": [],
   "source": [
    "submission['serial_number']=test['serial_number']"
   ]
  },
  {
   "cell_type": "code",
   "execution_count": 48,
   "metadata": {},
   "outputs": [],
   "source": [
    "submission['outcome']=outcome"
   ]
  },
  {
   "cell_type": "code",
   "execution_count": 49,
   "metadata": {},
   "outputs": [],
   "source": [
    "submission.to_csv('submussion.csv',index=False)"
   ]
  },
  {
   "cell_type": "code",
   "execution_count": null,
   "metadata": {},
   "outputs": [],
   "source": []
  }
 ],
 "metadata": {
  "kernelspec": {
   "display_name": "Python 3",
   "language": "python",
   "name": "python3"
  },
  "language_info": {
   "codemirror_mode": {
    "name": "ipython",
    "version": 3
   },
   "file_extension": ".py",
   "mimetype": "text/x-python",
   "name": "python",
   "nbconvert_exporter": "python",
   "pygments_lexer": "ipython3",
   "version": "3.7.0"
  }
 },
 "nbformat": 4,
 "nbformat_minor": 2
}
